{
 "cells": [
  {
   "cell_type": "code",
   "execution_count": null,
   "metadata": {},
   "outputs": [],
   "source": [
    "import numpy as np\n",
    "import matplotlib.pyplot as plt\n",
    "import pandas as pd\n",
    "import seaborn as sns"
   ]
  },
  {
   "cell_type": "code",
   "execution_count": null,
   "metadata": {},
   "outputs": [],
   "source": [
    "data = pd.read_csv('../dataset/mammographic_masses.data', header=None)\n",
    "data.columns = ['BI-RADS', 'Age', 'Shape', 'Margin', 'Density', 'Severity']\n",
    "\n",
    "data = data.replace('?', np.nan) # replace ? with NaN\n",
    "data = data.dropna()\n",
    "data = data.astype('int') # convert all columns to int\n",
    "\n",
    "print(data.shape)"
   ]
  },
  {
   "cell_type": "code",
   "execution_count": null,
   "metadata": {},
   "outputs": [],
   "source": [
    "data.head()"
   ]
  },
  {
   "cell_type": "code",
   "execution_count": null,
   "metadata": {},
   "outputs": [],
   "source": [
    "data.describe()"
   ]
  },
  {
   "cell_type": "code",
   "execution_count": null,
   "metadata": {},
   "outputs": [],
   "source": [
    "sns.countplot(x='Severity', data=data)\n",
    "plt.title('Severity Distribution \\n (0: Benign | 1: Malignant)', fontsize=14)\n",
    "\n",
    "print('Benign: ', round(data['Severity'].value_counts()[0]/len(data) * 100,2), '% of the dataset')\n",
    "print('Malignant: ', round(data['Severity'].value_counts()[1]/len(data) * 100,2), '% of the dataset')\n"
   ]
  },
  {
   "cell_type": "code",
   "execution_count": null,
   "metadata": {},
   "outputs": [],
   "source": [
    "age_benign = data.Age[data.Severity == 0].values\n",
    "\n",
    "\n",
    "plt.figure(figsize=(25,8))\n",
    "\n",
    "sns.histplot(age_benign, bins=1, kde=True, color='green', label='Benign')\n",
    "plt.title('Benign - Age', fontsize=14)"
   ]
  },
  {
   "cell_type": "code",
   "execution_count": null,
   "metadata": {},
   "outputs": [],
   "source": [
    "age_malign = data.Age[data.Severity == 1].values\n",
    "\n",
    "\n",
    "plt.figure(figsize=(25,8))\n",
    "\n",
    "sns.histplot(age_malign, bins=1, kde=True, color='red', label='Malignant')\n",
    "plt.title('Malignant - Age', fontsize=14)"
   ]
  },
  {
   "cell_type": "markdown",
   "metadata": {},
   "source": [
    "Correlation Matrices"
   ]
  },
  {
   "cell_type": "code",
   "execution_count": null,
   "metadata": {},
   "outputs": [],
   "source": [
    "corr = data.corr()\n",
    "\n",
    "plt.figure(figsize=(10, 7))\n",
    "\n",
    "sns.heatmap(corr, annot=True, cmap=plt.cm.Reds)\n",
    "plt.title('Correlation Matrix', fontsize=14)"
   ]
  },
  {
   "cell_type": "code",
   "execution_count": null,
   "metadata": {},
   "outputs": [],
   "source": [
    "f, axes = plt.subplots(ncols=4, figsize=(20, 8))\n",
    "\n",
    "sns.boxplot(x='Severity', y='Age', data=data, ax=axes[0])\n",
    "axes[0].set_title('Severity - Age', fontsize=14) \n",
    "\n",
    "sns.boxplot(x='Severity', y='BI-RADS', data=data, ax=axes[1])\n",
    "axes[1].set_title('Severity - BI-RADS', fontsize=14) \n",
    "\n",
    "sns.boxplot(x='Severity', y='Shape', data=data, ax=axes[2])\n",
    "axes[2].set_title('Severity - Shape', fontsize=14)\n",
    "\n",
    "sns.boxplot(x='Severity', y='Margin', data=data, ax=axes[3])\n",
    "axes[3].set_title('Severity - Margin', fontsize=14) \n"
   ]
  },
  {
   "cell_type": "code",
   "execution_count": null,
   "metadata": {},
   "outputs": [],
   "source": [
    "data[data['BI-RADS'] == 6]"
   ]
  },
  {
   "cell_type": "code",
   "execution_count": null,
   "metadata": {},
   "outputs": [],
   "source": [
    "data[data['BI-RADS'] == 0]"
   ]
  },
  {
   "cell_type": "code",
   "execution_count": null,
   "metadata": {},
   "outputs": [],
   "source": [
    "plt.scatter(data['BI-RADS'], data['Age'])"
   ]
  }
 ],
 "metadata": {
  "kernelspec": {
   "display_name": "Python 3.9.12",
   "language": "python",
   "name": "python3"
  },
  "language_info": {
   "codemirror_mode": {
    "name": "ipython",
    "version": 3
   },
   "file_extension": ".py",
   "mimetype": "text/x-python",
   "name": "python",
   "nbconvert_exporter": "python",
   "pygments_lexer": "ipython3",
   "version": "3.9.12"
  },
  "orig_nbformat": 4,
  "vscode": {
   "interpreter": {
    "hash": "38cca0c38332a56087b24af0bc80247f4fced29cb4f7f437d91dc159adec9c4e"
   }
  }
 },
 "nbformat": 4,
 "nbformat_minor": 2
}
